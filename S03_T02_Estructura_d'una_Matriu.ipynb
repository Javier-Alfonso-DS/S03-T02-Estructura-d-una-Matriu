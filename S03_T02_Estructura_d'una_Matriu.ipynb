{
  "nbformat": 4,
  "nbformat_minor": 0,
  "metadata": {
    "colab": {
      "name": "S03 T02: Estructura d'una Matriu.ipynb",
      "provenance": [],
      "authorship_tag": "ABX9TyM93pj5FDevmfoS8xL4BhDX",
      "include_colab_link": true
    },
    "kernelspec": {
      "name": "python3",
      "display_name": "Python 3"
    },
    "language_info": {
      "name": "python"
    }
  },
  "cells": [
    {
      "cell_type": "markdown",
      "metadata": {
        "id": "view-in-github",
        "colab_type": "text"
      },
      "source": [
        "<a href=\"https://colab.research.google.com/github/Javier-Alfonso-DS/S03_T02_Estructura_d_una_Matriu/blob/main/S03_T02_Estructura_d'una_Matriu.ipynb\" target=\"_parent\"><img src=\"https://colab.research.google.com/assets/colab-badge.svg\" alt=\"Open In Colab\"/></a>"
      ]
    },
    {
      "cell_type": "markdown",
      "metadata": {
        "id": "5f3NZmOKyc0i"
      },
      "source": [
        "Anem a practicar i a familiaritzar-nos amb l'estructura de Matrius, dimensió, forma, vectorització i Broadcasting .\n",
        "\n",
        "Nivell 1\n",
        "---\n",
        "---\n",
        "Treballem els conceptes de l'estructura d'una matriu, dimensió, eixos i la vectorització que ens permet reduir l'ús de for loops en operacions aritmètiques o matemàtiques..\n"
      ]
    },
    {
      "cell_type": "markdown",
      "metadata": {
        "id": "U10TgJhQ2Emt"
      },
      "source": [
        "- Exercici 1\n",
        "---\n",
        "Crea un np.array d'una dimensió, que inclogui l'almenys 8 nombres sencers, data type int64. Mostra la dimensió i la forma de la matriu."
      ]
    },
    {
      "cell_type": "code",
      "metadata": {
        "colab": {
          "base_uri": "https://localhost:8080/"
        },
        "id": "OjNaP7GJ2HWK",
        "outputId": "479d1e1a-179b-4fd6-b3df-0ac56a1f8bbd"
      },
      "source": [
        "import numpy as np\n",
        "arr = np.array([1,2,3,4,4,3,2,1],dtype= 'int64')\n",
        "print(\"L'arry es:\",arr)\n",
        "print(\"Les dimensions son:\",arr.ndim)\n",
        "print(\"La forma de l'array es:\",arr.shape)"
      ],
      "execution_count": 25,
      "outputs": [
        {
          "output_type": "stream",
          "name": "stdout",
          "text": [
            "L'arry es: [1 2 3 4 4 3 2 1]\n",
            "Les dimensions son: 1\n",
            "La forma de l'array es: (8,)\n"
          ]
        }
      ]
    },
    {
      "cell_type": "markdown",
      "metadata": {
        "id": "LVTy42VE4GJV"
      },
      "source": [
        "- Exercici 2\n",
        "---\n",
        "De la matriu de l'exercici 1, calcula el valor mitjà dels valors introduïts i resta la mitjana resultant de cada un dels valors de la matriu."
      ]
    },
    {
      "cell_type": "code",
      "metadata": {
        "colab": {
          "base_uri": "https://localhost:8080/"
        },
        "id": "H0vLWGsU4H2k",
        "outputId": "5ae2199c-9912-4ef7-aa60-011a50e0674a"
      },
      "source": [
        "print(\"La mitjana es:\",arr.mean())\n",
        "arr_copy = arr.copy()\n",
        "arr_copy = arr_copy - arr.mean()\n",
        "print(arr_copy)"
      ],
      "execution_count": 26,
      "outputs": [
        {
          "output_type": "stream",
          "name": "stdout",
          "text": [
            "La mitjana es: 2.5\n",
            "[-1.5 -0.5  0.5  1.5  1.5  0.5 -0.5 -1.5]\n"
          ]
        }
      ]
    },
    {
      "cell_type": "markdown",
      "metadata": {
        "id": "vhjvLEhDIwSv"
      },
      "source": [
        "- Exercici 3\n",
        "---\n",
        "Crea una matriu bidimensional amb una forma de 5 x 5. Extreu el valor màxim de la matriu, i els valors màxims de cadascun dels seus eixos.\n",
        "\n",
        "![image.png](data:image/png;base64,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)\n"
      ]
    },
    {
      "cell_type": "code",
      "metadata": {
        "colab": {
          "base_uri": "https://localhost:8080/"
        },
        "id": "Uo73YP6AIxuC",
        "outputId": "4fbb6398-ae5c-4c4d-ece2-7a3387a5947c"
      },
      "source": [
        "a = np.random.random((5,5))\n",
        "print(a)\n",
        "print(\"\")\n",
        "print (\"El valor màxim de la matriu es:\",a.max())\n",
        "print (\"Els valors màxims de l'eix 0 - col es:\",a.max(axis=0))\n",
        "print (\"Els valors màxims de l'eix 1 - row es:\",a.max(axis=1))"
      ],
      "execution_count": 27,
      "outputs": [
        {
          "output_type": "stream",
          "name": "stdout",
          "text": [
            "[[0.59443494 0.65743755 0.24892309 0.82170055 0.23083126]\n",
            " [0.7311486  0.9735367  0.91771249 0.33966328 0.6365147 ]\n",
            " [0.19057397 0.55011307 0.08459377 0.23955804 0.01074671]\n",
            " [0.84266922 0.06703689 0.46710619 0.10045896 0.7192278 ]\n",
            " [0.15330025 0.28686233 0.60973702 0.40467171 0.59657985]]\n",
            "\n",
            "El valor màxim de la matriu es: 0.9735367001093342\n",
            "Els valors màxims de l'eix 0 - col es: [0.84266922 0.9735367  0.91771249 0.82170055 0.7192278 ]\n",
            "Els valors màxims de l'eix 1 - row es: [0.82170055 0.9735367  0.55011307 0.84266922 0.60973702]\n"
          ]
        }
      ]
    },
    {
      "cell_type": "markdown",
      "metadata": {
        "id": "1VdKyN5tAVFA"
      },
      "source": [
        "\n",
        "Exercici 4\n",
        "---\n",
        "\n",
        "Mostreu-me amb exemples de diferents matrius, la regla fonamental de Broadcasting que diu : \"les matrius es poden transmetre / broadcast si les seves dimensions coincideixen o si una de les matrius té una mida d'1\"."
      ]
    },
    {
      "cell_type": "code",
      "metadata": {
        "id": "uvGNOqDyJATv",
        "colab": {
          "base_uri": "https://localhost:8080/"
        },
        "outputId": "c9d14d19-6e52-4308-fb0f-b6d6d44ed794"
      },
      "source": [
        "import numpy as np\n",
        "\n",
        "a = np.array([1.0, 2.0, 3.0])\n",
        "b = np.array([2.0, 2.0, 2.0])\n",
        "c = np.array([[1,2,3],[4,5,6]])\n",
        "d = np.ones((2,2,3))\n",
        "e = np.zeros((2,2,1))\n",
        "f = np.array([4,3])\n",
        "\n",
        "print(\"La regla fonamental de Broadcasting diu que les matrius es poden transmetre si \\n\\\n",
        "les seves dimensions coincideixen o si una de les matrius té mida 1.\")\n",
        "print(\"Exemple 1.- Matriu 'a' (1d array) (3,) es pot transmetre amb 'c' (2d array) (2,3) (eix 1 dim 3)\")\n",
        "print(\"a:\",a)\n",
        "print(\"c:\",c)\n",
        "print(\"a*c:\",a*c)\n",
        "print(\"Exemple 2.- 'a' (3,) pot transmetre amb 'd' (2,2,3) (eix 2 mateixa dim 3)\")\n",
        "print(\"a:\",a)\n",
        "print(\"d:\",d)\n",
        "print(\"a*d:\",a*d)\n",
        "print(\"Exemple 3.- La matriu 'd' (2,2,3) es pot transmetre amb la 'e' (2,2,1) perque \\n \\\n",
        "els eixos o tenen la mateixa dim 2 o en el eix 2 un te dim 3 i l'altra dim 1\")\n",
        "print(\"d:\",d)\n",
        "print(\"e:\",e)\n",
        "print(\"d*e:\",d*e)\n",
        "print()\n",
        "print(\"Exemple 4.- En canvi, 'd' no pot multiplicarse per 'f' ja que les dimensions son diferents \\n \\\n",
        "'d' eix 2 dim 3 i 'f' dim 2\")\n",
        "print(\"#d*f\")\n",
        "print(\">>> operands could not be broadcast together with shapes (2,2,3) (2,)\")\n",
        "print(\"Exemple 5.- Una matriu es pot transmetre amb un escalar\")\n",
        "print(\"a:\",a)\n",
        "print(\"a*3:\",a*3)"
      ],
      "execution_count": 28,
      "outputs": [
        {
          "output_type": "stream",
          "name": "stdout",
          "text": [
            "La regla fonamental de Broadcasting diu que les matrius es poden transmetre si \n",
            "les seves dimensions coincideixen o si una de les matrius té mida 1.\n",
            "Exemple 1.- Matriu 'a' (1d array) (3,) es pot transmetre amb 'c' (2d array) (2,3) (eix 1 dim 3)\n",
            "a: [1. 2. 3.]\n",
            "c: [[1 2 3]\n",
            " [4 5 6]]\n",
            "a*c: [[ 1.  4.  9.]\n",
            " [ 4. 10. 18.]]\n",
            "Exemple 2.- 'a' (3,) pot transmetre amb 'd' (2,2,3) (eix 2 mateixa dim 3)\n",
            "a: [1. 2. 3.]\n",
            "d: [[[1. 1. 1.]\n",
            "  [1. 1. 1.]]\n",
            "\n",
            " [[1. 1. 1.]\n",
            "  [1. 1. 1.]]]\n",
            "a*d: [[[1. 2. 3.]\n",
            "  [1. 2. 3.]]\n",
            "\n",
            " [[1. 2. 3.]\n",
            "  [1. 2. 3.]]]\n",
            "Exemple 3.- La matriu 'd' (2,2,3) es pot transmetre amb la 'e' (2,2,1) perque \n",
            " els eixos o tenen la mateixa dim 2 o en el eix 2 un te dim 3 i l'altra dim 1\n",
            "d: [[[1. 1. 1.]\n",
            "  [1. 1. 1.]]\n",
            "\n",
            " [[1. 1. 1.]\n",
            "  [1. 1. 1.]]]\n",
            "e: [[[0.]\n",
            "  [0.]]\n",
            "\n",
            " [[0.]\n",
            "  [0.]]]\n",
            "d*e: [[[0. 0. 0.]\n",
            "  [0. 0. 0.]]\n",
            "\n",
            " [[0. 0. 0.]\n",
            "  [0. 0. 0.]]]\n",
            "\n",
            "Exemple 4.- En canvi, 'd' no pot multiplicarse per 'f' ja que les dimensions son diferents \n",
            " 'd' eix 2 dim 3 i 'f' dim 2\n",
            "#d*f\n",
            ">>> operands could not be broadcast together with shapes (2,2,3) (2,)\n",
            "Exemple 5.- Una matriu es pot transmetre amb un escalar\n",
            "a: [1. 2. 3.]\n",
            "a*3: [3. 6. 9.]\n"
          ]
        }
      ]
    },
    {
      "cell_type": "markdown",
      "metadata": {
        "id": "EvQkWPZqgFCd"
      },
      "source": [
        "\n",
        "Exercici 5\n",
        "---\n",
        "\n",
        "Utilitza la Indexació per extreure els valors d'una columna i una fila de la matriu. I suma els seus valors."
      ]
    },
    {
      "cell_type": "code",
      "metadata": {
        "colab": {
          "base_uri": "https://localhost:8080/"
        },
        "id": "3fx1gwiWKqI7",
        "outputId": "ce122aad-c643-4fed-9c3b-bbdcef7a4cec"
      },
      "source": [
        "c = np.array([[1,2,3],[4,5,6],[7,8,9],[10,11,12]])\n",
        "sumRow0 = sumColumn1 = 0\n",
        "print(\"Exercici resolt utilitzant indexació via un for\")\n",
        "for x in c[0,:]:\n",
        "    sumRow0 += x\n",
        "print(\"La suma de la fila index 0 es:\",sumRow0)\n",
        "for x in c[:,1]:\n",
        "    sumColumn1 += x\n",
        "print(\"La suma de la columna index 1 es:\",sumColumn1)\n",
        "\n",
        "print(\"També es pot utilitzar la indexació via []\")\n",
        "print(\"La suma de la fila index 0 es:\",sum(c[0,:]))\n",
        "print(\"La suma de la columna index 1 es:\",sum(c[:,1]))\n"
      ],
      "execution_count": 29,
      "outputs": [
        {
          "output_type": "stream",
          "name": "stdout",
          "text": [
            "Exercici resolt utilitzant indexació via un for\n",
            "La suma de la fila index 0 es: 6\n",
            "La suma de la columna index 1 es: 26\n",
            "També es pot utilitzar la indexació via []\n",
            "La suma de la fila index 0 es: 6\n",
            "La suma de la columna index 1 es: 26\n"
          ]
        }
      ]
    },
    {
      "cell_type": "markdown",
      "metadata": {
        "id": "JeuapIB7piOe"
      },
      "source": [
        "\n",
        "Exercici 6\n",
        "---\n",
        "\n",
        "Mask la matriu anterior, realitzeu un càlcul booleà vectoritzat, agafant cada element i comprovant si es divideix uniformement per quatre.\n",
        "\n",
        "Això retorna una matriu de mask de la mateixa forma amb els resultats elementals del càlcul."
      ]
    },
    {
      "cell_type": "code",
      "metadata": {
        "id": "L9HVn7rpg20m",
        "colab": {
          "base_uri": "https://localhost:8080/"
        },
        "outputId": "4de1aea4-9be1-4e86-e59f-3cb2b7ec21e0"
      },
      "source": [
        "import numpy as np\n",
        "c = np.array([[1,2,3],[4,5,6],[7,8,9],[10,11,12]])\n",
        "print(c%4==0)\n",
        "\n",
        "#d = np.arange(1,30)\n",
        "#print(d%4==0)"
      ],
      "execution_count": 30,
      "outputs": [
        {
          "output_type": "stream",
          "name": "stdout",
          "text": [
            "[[False False False]\n",
            " [ True False False]\n",
            " [False  True False]\n",
            " [False False  True]]\n"
          ]
        }
      ]
    },
    {
      "cell_type": "markdown",
      "metadata": {
        "id": "gRAKc6f-a5Vr"
      },
      "source": [
        "Exercici 7\n",
        "---\n",
        "A continuació, utilitzeu aquesta màscara per indexar a la matriu de números original. Això fa que la matriu perdi la seva forma original, reduint-la a una dimensió, però encara obteniu les dades que esteu cercant."
      ]
    },
    {
      "cell_type": "code",
      "metadata": {
        "colab": {
          "base_uri": "https://localhost:8080/"
        },
        "id": "TXqxNaC4X3nv",
        "outputId": "f46c1087-ba41-4812-882e-743ac54542ff"
      },
      "source": [
        "print(c[c%4==0])"
      ],
      "execution_count": 31,
      "outputs": [
        {
          "output_type": "stream",
          "name": "stdout",
          "text": [
            "[ 4  8 12]\n"
          ]
        }
      ]
    },
    {
      "cell_type": "markdown",
      "metadata": {
        "id": "E69PO6DZd1KI"
      },
      "source": [
        "Nivell 3\n",
        "---\n",
        "Manipulació d’imatges amb Matplotlib.\n",
        "\n",
        "Carregareu qualsevol imatge (jpg, png ..) amb Matplotlib. adoneu-vos que les imatges RGB (Red, Green, Blue) són realment només amplades × alçades × 3 matrius (tres canals Vermell, Verd i Blau), una per cada color de nombres enters int8,\n",
        "\n",
        "manipuleu aquests bytes i torneu a utilitzar Matplotlib per desar la imatge modificada un cop hàgiu acabat.\n",
        "\n",
        "Ajuda:Importeu, import matplotlib.image as mpimg. estudieu el metodde mpimg.imread(()\n",
        "\n",
        "Exercici 8\n",
        "---\n",
        "\n",
        "Mostreu-me a veure que passa quan eliminem el canal G Verd o B Blau.\n",
        "\n",
        "Mostreu-me a veure què passa quan eliminem el canal G Verd o B Blau. Hauries d'utilitzar la indexació per seleccionar el canal que voleu anul·lar.\n",
        "\n",
        "Utilitzar el mètode, mpimg.imsave () de la llibreria importada, per guardar les imatges modificades i que haureu de pujar al vostre repositori a github."
      ]
    },
    {
      "cell_type": "code",
      "metadata": {
        "id": "F4sA0dec6-hk",
        "colab": {
          "base_uri": "https://localhost:8080/"
        },
        "outputId": "590b6a8d-7eb2-4c91-92b1-d6cb404b1dae"
      },
      "source": [
        "from google.colab import drive\n",
        "drive.mount('/content/drive')"
      ],
      "execution_count": 32,
      "outputs": [
        {
          "output_type": "stream",
          "name": "stdout",
          "text": [
            "Drive already mounted at /content/drive; to attempt to forcibly remount, call drive.mount(\"/content/drive\", force_remount=True).\n"
          ]
        }
      ]
    },
    {
      "cell_type": "code",
      "metadata": {
        "colab": {
          "base_uri": "https://localhost:8080/",
          "height": 790
        },
        "id": "3xFVnIPbcN6p",
        "outputId": "63d6afe3-d129-4867-ff84-4e63ed166045"
      },
      "source": [
        "import numpy as np\n",
        "import matplotlib.image as mpimg\n",
        "import matplotlib.pyplot as plt\n",
        "img = mpimg.imread('https://upload.wikimedia.org/wikipedia/commons/thumb/e/e0/Synthese%2B.svg/1200px-Synthese%2B.svg.png')\n",
        "#img = mpimg.imread(\"https://www.interactivechaos.com/sites/default/files/data/sunset.png\")\n",
        "print(\"shape:\",img.shape)\n",
        "imgplot = plt.imshow(img)\n",
        "plt.show()\n",
        "img_no_Green = np.copy(img)\n",
        "#img_no_Green = img_no_Green*[1,0,1] - Utilitzant una multiplicació (broadcast)\n",
        "#Utilitzant una indexació\n",
        "img_no_Green[...,1] = 0\n",
        "#print(img_no_Green)\n",
        "imgplot = plt.imshow(img_no_Green)\n",
        "plt.show()\n",
        "plt.imsave(\"/content/drive/My Drive/Colab Notebooks/img_no_Green.png\",img_no_Green)\n",
        "img_no_Blue = img.copy()\n",
        "img_no_Blue[...,2] = 0\n",
        "imgplot = plt.imshow(img_no_Blue)\n",
        "plt.show()\n",
        "plt.imsave(\"/content/drive/My Drive/Colab Notebooks/img_no_Blue.png\",img_no_Blue)"
      ],
      "execution_count": 34,
      "outputs": [
        {
          "output_type": "stream",
          "name": "stdout",
          "text": [
            "shape: (1143, 1200, 3)\n"
          ]
        },
        {
          "output_type": "display_data",
          "data": {
            "image/png": "[encoded data removed]",
            "text/plain": [
              "<Figure size 432x288 with 1 Axes>"
            ]
          },
          "metadata": {
            "needs_background": "light"
          }
        },
        {
          "output_type": "display_data",
          "data": {
            "image/png": "[encoded data removed]",
            "text/plain": [
              "<Figure size 432x288 with 1 Axes>"
            ]
          },
          "metadata": {
            "needs_background": "light"
          }
        },
        {
          "output_type": "display_data",
          "data": {
            "image/png": "[encoded data removed]",
            "text/plain": [
              "<Figure size 432x288 with 1 Axes>"
            ]
          },
          "metadata": {
            "needs_background": "light"
          }
        }
      ]
    },
    {
      "cell_type": "code",
      "metadata": {
        "id": "IR5JwktI7fnG"
      },
      "source": [
        ""
      ],
      "execution_count": 33,
      "outputs": []
    }
  ]
}